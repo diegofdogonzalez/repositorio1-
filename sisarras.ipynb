{
  "nbformat": 4,
  "nbformat_minor": 0,
  "metadata": {
    "colab": {
      "name": "Untitled0.ipynb",
      "provenance": [],
      "include_colab_link": true
    },
    "kernelspec": {
      "name": "python3",
      "display_name": "Python 3"
    }
  },
  "cells": [
    {
      "cell_type": "markdown",
      "metadata": {
        "id": "view-in-github",
        "colab_type": "text"
      },
      "source": [
        "<a href=\"https://colab.research.google.com/github/diegofdogonzalez/repositorio1-/blob/master/sisarras.ipynb\" target=\"_parent\"><img src=\"https://colab.research.google.com/assets/colab-badge.svg\" alt=\"Open In Colab\"/></a>"
      ]
    },
    {
      "cell_type": "code",
      "metadata": {
        "id": "w4EubG32xxw3",
        "colab_type": "code",
        "colab": {}
      },
      "source": [
        "from google.colab import drive\n",
        "drive.mount('/content/drive')"
      ],
      "execution_count": 0,
      "outputs": []
    },
    {
      "cell_type": "code",
      "metadata": {
        "id": "qjd0F0dOx1IU",
        "colab_type": "code",
        "colab": {}
      },
      "source": [
        "# importar librerias necesarias \n",
        "\n",
        "import numpy as np\n",
        "import matplotlib.pyplot as plt\n",
        "import cv2\n",
        "import os\n",
        "\n",
        "path='/content/drive/My Drive/colab/images/'\n",
        "os.chdir(path)\n",
        "!pwd\n",
        "\n",
        "# graficar imagenes estaticas en el notebook\n",
        "%matplotlib inline"
      ],
      "execution_count": 0,
      "outputs": []
    },
    {
      "cell_type": "code",
      "metadata": {
        "id": "MUQX54cmx2_i",
        "colab_type": "code",
        "colab": {}
      },
      "source": [
        "def displayGray3(a, b,c,title1 = \"Original\", title2 = \"Edited\", title3 = \"Edited\"):\n",
        "    plt.figure(figsize=(20,20))\n",
        "    plt.subplot(131), plt.imshow(a,cmap='gray'), plt.title(title1)\n",
        "    plt.xticks([]), plt.yticks([])\n",
        "    plt.subplot(132), plt.imshow(b,cmap='gray'), plt.title(title2)\n",
        "    plt.xticks([]), plt.yticks([])\n",
        "    plt.subplot(133), plt.imshow(c,cmap='gray'), plt.title(title3)\n",
        "    plt.xticks([]), plt.yticks([])\n",
        "    plt.show()\n",
        "    \n",
        "def displayHist3(a, b,c,title1 = \"Original\", title2 = \"Edited\", title3 = \"Edited\"):\n",
        "    plt.figure(figsize=(18,5))\n",
        "    plt.subplot(231), plt.plot(a, color='gray')\n",
        "    plt.xlabel('intensidad de iluminacion')\n",
        "    plt.ylabel('cantidad de pixeles')\n",
        "    \n",
        "    plt.subplot(232), plt.plot(b, color='gray')\n",
        "    plt.xlabel('intensidad de iluminacion')\n",
        "    plt.ylabel('cantidad de pixeles')\n",
        "    \n",
        "    plt.subplot(233), plt.plot(c, color='gray')\n",
        "    plt.xlabel('intensidad de iluminacion')\n",
        "    plt.ylabel('cantidad de pixeles')\n",
        "    plt.show()\n",
        "    \n",
        "def displayGray4(a, b, c, d, title1 = \"Original\", title2 = \"Edited\", title3 = \"Edited\", title4 = \"Edited\"):\n",
        "    plt.figure(figsize=(30,30))\n",
        "    plt.subplot(141), plt.imshow(a,cmap='gray'), plt.title(title1)\n",
        "    plt.xticks([]), plt.yticks([])\n",
        "    plt.subplot(142), plt.imshow(b,cmap='gray'), plt.title(title2)\n",
        "    plt.xticks([]), plt.yticks([])\n",
        "    plt.subplot(143), plt.imshow(c,cmap='gray'), plt.title(title3)\n",
        "    plt.xticks([]), plt.yticks([])\n",
        "    plt.subplot(144), plt.imshow(d,cmap='gray'), plt.title(title4)\n",
        "    plt.xticks([]), plt.yticks([])\n",
        "    plt.show()\n",
        "    \n",
        "def displayGray2(a, b,title1 = \"Original\", title2 = \"Edited\"):\n",
        "    plt.figure(figsize=(30,30))\n",
        "    plt.subplot(121), plt.imshow(a,cmap='gray'), plt.title(title1)\n",
        "    plt.xticks([]), plt.yticks([])\n",
        "    plt.subplot(122), plt.imshow(b,cmap='gray'), plt.title(title2)\n",
        "    plt.xticks([]), plt.yticks([])\n",
        "    plt.show()\n",
        "    \n",
        "def displayColor3(a, b,c,title1 = \"Original\", title2 = \"Edited\", title3 = \"Edited\"):\n",
        "    plt.figure(figsize=(10,10))\n",
        "    plt.subplot(131), plt.imshow(a), plt.title(title1)\n",
        "    plt.xticks([]), plt.yticks([])\n",
        "    plt.subplot(132), plt.imshow(b), plt.title(title2)\n",
        "    plt.xticks([]), plt.yticks([])\n",
        "    plt.subplot(133), plt.imshow(c), plt.title(title3)\n",
        "    plt.xticks([]), plt.yticks([])\n",
        "    plt.show()\n",
        "    \n",
        "def displayColor2(a, b,title1 = \"Original\", title2 = \"Edited\"):\n",
        "    plt.figure(figsize=(25,25))\n",
        "    plt.subplot(131), plt.imshow(a), plt.title(title1)\n",
        "    plt.xticks([]), plt.yticks([])\n",
        "    plt.subplot(132), plt.imshow(b), plt.title(title2)\n",
        "    plt.xticks([]), plt.yticks([])\n",
        "    plt.show()\n",
        "    \n",
        "def displayColor4(a, b, c, d, title1 = \"Original\", title2 = \"Edited\"):\n",
        "    plt.figure(figsize=(10,10))\n",
        "    plt.subplot(131), plt.imshow(a), plt.title(title1)\n",
        "    plt.xticks([]), plt.yticks([])\n",
        "    plt.subplot(132), plt.imshow(b), plt.title(title2)\n",
        "    plt.xticks([]), plt.yticks([])\n",
        "    plt.subplot(133), plt.imshow(c), plt.title(title3)\n",
        "    plt.xticks([]), plt.yticks([])\n",
        "    plt.subplot(134), plt.imshow(d), plt.title(title4)\n",
        "    plt.xticks([]), plt.yticks([])\n",
        "    plt.show()\n",
        "\n",
        "def readRGB(imgPath):\n",
        "    img = cv2.imread(imgPath)\n",
        "    img =cv2.cvtColor(img,cv2.COLOR_BGR2RGB)\n",
        "    return img"
      ],
      "execution_count": 0,
      "outputs": []
    }
  ]
}