{
  "nbformat": 4,
  "nbformat_minor": 0,
  "metadata": {
    "colab": {
      "name": "Lab1.ipynb",
      "provenance": [],
      "include_colab_link": true
    },
    "kernelspec": {
      "name": "python3",
      "display_name": "Python 3"
    }
  },
  "cells": [
    {
      "cell_type": "markdown",
      "metadata": {
        "id": "view-in-github",
        "colab_type": "text"
      },
      "source": [
        "<a href=\"https://colab.research.google.com/github/diegofdogonzalez/repositorio1-/blob/master/Lab1.ipynb\" target=\"_parent\"><img src=\"https://colab.research.google.com/assets/colab-badge.svg\" alt=\"Open In Colab\"/></a>"
      ]
    },
    {
      "cell_type": "code",
      "metadata": {
        "id": "2xhYTlogv8YF",
        "colab_type": "code",
        "colab": {
          "base_uri": "https://localhost:8080/",
          "height": 122
        },
        "outputId": "e33fd918-0f77-47a6-d9d5-d267064e66a0"
      },
      "source": [
        "from google.colab import drive\n",
        "drive.mount('/content/drive')\n"
      ],
      "execution_count": 1,
      "outputs": [
        {
          "output_type": "stream",
          "text": [
            "Go to this URL in a browser: https://accounts.google.com/o/oauth2/auth?client_id=947318989803-6bn6qk8qdgf4n4g3pfee6491hc0brc4i.apps.googleusercontent.com&redirect_uri=urn%3Aietf%3Awg%3Aoauth%3A2.0%3Aoob&scope=email%20https%3A%2F%2Fwww.googleapis.com%2Fauth%2Fdocs.test%20https%3A%2F%2Fwww.googleapis.com%2Fauth%2Fdrive%20https%3A%2F%2Fwww.googleapis.com%2Fauth%2Fdrive.photos.readonly%20https%3A%2F%2Fwww.googleapis.com%2Fauth%2Fpeopleapi.readonly&response_type=code\n",
            "\n",
            "Enter your authorization code:\n",
            "··········\n",
            "Mounted at /content/drive\n"
          ],
          "name": "stdout"
        }
      ]
    },
    {
      "cell_type": "code",
      "metadata": {
        "id": "B6gchx7ZwQYk",
        "colab_type": "code",
        "colab": {
          "base_uri": "https://localhost:8080/",
          "height": 34
        },
        "outputId": "97cfe5df-9eeb-403f-cd66-3e27e3be00af"
      },
      "source": [
        "# importar librerias necesarias \n",
        "\n",
        "import numpy as np\n",
        "import matplotlib.pyplot as plt\n",
        "import cv2\n",
        "import os\n",
        "\n",
        "path='/content/drive/My Drive/colab/images/'\n",
        "os.chdir(path)\n",
        "!pwd\n",
        "\n",
        "# graficar imagenes estaticas en el notebook\n",
        "%matplotlib inline\n"
      ],
      "execution_count": 2,
      "outputs": [
        {
          "output_type": "stream",
          "text": [
            "/content/drive/My Drive/colab/images\n"
          ],
          "name": "stdout"
        }
      ]
    },
    {
      "cell_type": "code",
      "metadata": {
        "id": "MokLl4o1whjF",
        "colab_type": "code",
        "colab": {}
      },
      "source": [
        "def displayGray3(a, b,c,title1 = \"Original\", title2 = \"Edited\", title3 = \"Edited\"):\n",
        "    plt.figure(figsize=(20,20))\n",
        "    plt.subplot(131), plt.imshow(a,cmap='gray'), plt.title(title1)\n",
        "    plt.xticks([]), plt.yticks([])\n",
        "    plt.subplot(132), plt.imshow(b,cmap='gray'), plt.title(title2)\n",
        "    plt.xticks([]), plt.yticks([])\n",
        "    plt.subplot(133), plt.imshow(c,cmap='gray'), plt.title(title3)\n",
        "    plt.xticks([]), plt.yticks([])\n",
        "    plt.show()\n",
        "    \n",
        "def displayHist3(a, b,c,title1 = \"Original\", title2 = \"Edited\", title3 = \"Edited\"):\n",
        "    plt.figure(figsize=(18,5))\n",
        "    plt.subplot(231), plt.plot(a, color='gray')\n",
        "    plt.xlabel('intensidad de iluminacion')\n",
        "    plt.ylabel('cantidad de pixeles')\n",
        "    \n",
        "    plt.subplot(232), plt.plot(b, color='gray')\n",
        "    plt.xlabel('intensidad de iluminacion')\n",
        "    plt.ylabel('cantidad de pixeles')\n",
        "    \n",
        "    plt.subplot(233), plt.plot(c, color='gray')\n",
        "    plt.xlabel('intensidad de iluminacion')\n",
        "    plt.ylabel('cantidad de pixeles')\n",
        "    plt.show()\n",
        "    \n",
        "def displayGray4(a, b, c, d, title1 = \"Original\", title2 = \"Edited\", title3 = \"Edited\", title4 = \"Edited\"):\n",
        "    plt.figure(figsize=(30,30))\n",
        "    plt.subplot(141), plt.imshow(a,cmap='gray'), plt.title(title1)\n",
        "    plt.xticks([]), plt.yticks([])\n",
        "    plt.subplot(142), plt.imshow(b,cmap='gray'), plt.title(title2)\n",
        "    plt.xticks([]), plt.yticks([])\n",
        "    plt.subplot(143), plt.imshow(c,cmap='gray'), plt.title(title3)\n",
        "    plt.xticks([]), plt.yticks([])\n",
        "    plt.subplot(144), plt.imshow(d,cmap='gray'), plt.title(title4)\n",
        "    plt.xticks([]), plt.yticks([])\n",
        "    plt.show()\n",
        "    \n",
        "def displayGray2(a, b,title1 = \"Original\", title2 = \"Edited\"):\n",
        "    plt.figure(figsize=(30,30))\n",
        "    plt.subplot(121), plt.imshow(a,cmap='gray'), plt.title(title1)\n",
        "    plt.xticks([]), plt.yticks([])\n",
        "    plt.subplot(122), plt.imshow(b,cmap='gray'), plt.title(title2)\n",
        "    plt.xticks([]), plt.yticks([])\n",
        "    plt.show()\n",
        "    \n",
        "def displayColor3(a, b,c,title1 = \"Original\", title2 = \"Edited\", title3 = \"Edited\"):\n",
        "    plt.figure(figsize=(10,10))\n",
        "    plt.subplot(131), plt.imshow(a), plt.title(title1)\n",
        "    plt.xticks([]), plt.yticks([])\n",
        "    plt.subplot(132), plt.imshow(b), plt.title(title2)\n",
        "    plt.xticks([]), plt.yticks([])\n",
        "    plt.subplot(133), plt.imshow(c), plt.title(title3)\n",
        "    plt.xticks([]), plt.yticks([])\n",
        "    plt.show()\n",
        "    \n",
        "def displayColor2(a, b,title1 = \"Original\", title2 = \"Edited\"):\n",
        "    plt.figure(figsize=(25,25))\n",
        "    plt.subplot(131), plt.imshow(a), plt.title(title1)\n",
        "    plt.xticks([]), plt.yticks([])\n",
        "    plt.subplot(132), plt.imshow(b), plt.title(title2)\n",
        "    plt.xticks([]), plt.yticks([])\n",
        "    plt.show()\n",
        "    \n",
        "def displayColor4(a, b, c, d, title1 = \"Original\", title2 = \"Edited\"):\n",
        "    plt.figure(figsize=(10,10))\n",
        "    plt.subplot(131), plt.imshow(a), plt.title(title1)\n",
        "    plt.xticks([]), plt.yticks([])\n",
        "    plt.subplot(132), plt.imshow(b), plt.title(title2)\n",
        "    plt.xticks([]), plt.yticks([])\n",
        "    plt.subplot(133), plt.imshow(c), plt.title(title3)\n",
        "    plt.xticks([]), plt.yticks([])\n",
        "    plt.subplot(134), plt.imshow(d), plt.title(title4)\n",
        "    plt.xticks([]), plt.yticks([])\n",
        "    plt.show()\n",
        "\n",
        "def readRGB(imgPath):\n",
        "    img = cv2.imread(imgPath)\n",
        "    img =cv2.cvtColor(img,cv2.COLOR_BGR2RGB)\n",
        "    return img"
      ],
      "execution_count": 0,
      "outputs": []
    },
    {
      "cell_type": "markdown",
      "metadata": {
        "id": "MCyOqhCwxHDV",
        "colab_type": "text"
      },
      "source": [
        "# **Punto 1**"
      ]
    },
    {
      "cell_type": "code",
      "metadata": {
        "id": "DUjLXAs8xGqN",
        "colab_type": "code",
        "colab": {}
      },
      "source": [
        ""
      ],
      "execution_count": 0,
      "outputs": []
    }
  ]
}